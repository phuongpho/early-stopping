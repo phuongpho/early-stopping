{
 "cells": [
  {
   "cell_type": "markdown",
   "metadata": {},
   "source": [
    "# Example of using early stopping"
   ]
  },
  {
   "cell_type": "markdown",
   "metadata": {},
   "source": [
    "Here, we use early stopping in training the Simple Graph Convolution on Cora dataset. The code is adapted from "
   ]
  },
  {
   "cell_type": "code",
   "execution_count": 66,
   "metadata": {},
   "outputs": [],
   "source": [
    "# Import packages\n",
    "import dgl\n",
    "from dgl.data import CoraGraphDataset\n",
    "from dgl.nn.pytorch.conv import SGConv\n",
    "import numpy as np\n",
    "import matplotlib.pyplot as plt\n",
    "import torch\n",
    "import torch.nn as nn\n",
    "import torch.nn.functional as F\n",
    "import time"
   ]
  },
  {
   "cell_type": "code",
   "execution_count": 67,
   "metadata": {},
   "outputs": [],
   "source": [
    "# Defined functions for training purpose\n",
    "\n",
    "# Loss function\n",
    "def loss_fnc(labels, outputs, masks = None):\n",
    "    # Loss\n",
    "    loss_fnc = nn.CrossEntropyLoss()\n",
    "\n",
    "    # Compute the loss\n",
    "    if masks is not None:\n",
    "        loss = loss_fnc(outputs[masks], labels[masks])\n",
    "    else: \n",
    "        loss = loss_fnc(outputs, labels)\n",
    "    \n",
    "    return loss\n",
    "\n",
    "# Evaluation function \n",
    "def evaluate(model, loss_fn, g, features, labels, mask):\n",
    "    model.eval()\n",
    "    with torch.no_grad():\n",
    "        logits = model(g, features)[mask]\n",
    "        \n",
    "        labels = labels[mask]\n",
    "        \n",
    "        # compute loss\n",
    "        loss = loss_fn(labels, logits)\n",
    "        \n",
    "        # compute acc\n",
    "        _, indices = torch.max(logits, dim=1)\n",
    "        correct = torch.sum(indices == labels)\n",
    "        acc = correct.item() * 1.0 / len(labels)\n",
    "        return loss.item(), acc\n",
    "        \n",
    "# Trainer wrapper function\n",
    "def make_trainer(model, loss_fn, optimizer):\n",
    "    def trainer(features, labels, g, mask):\n",
    "        # Sets model to TRAIN mode\n",
    "        model.train()\n",
    "       \n",
    "        # Makes predictions\n",
    "        logits = model(g, features)\n",
    "              \n",
    "        # Compute the loss\n",
    "        loss = loss_fn(labels, logits, masks = mask)\n",
    "        \n",
    "        # Computes gradients\n",
    "        loss.backward()\n",
    "        \n",
    "        # Updates parameters and zeroes gradientss\n",
    "        optimizer.step()\n",
    "        optimizer.zero_grad()\n",
    "        \n",
    "        # Returns the loss\n",
    "        return loss.item()\n",
    "    \n",
    "    # Returns the function that will be called inside the train loop\n",
    "    return trainer"
   ]
  },
  {
   "cell_type": "code",
   "execution_count": 68,
   "metadata": {},
   "outputs": [
    {
     "name": "stdout",
     "output_type": "stream",
     "text": [
      "  NumNodes: 2708\n",
      "  NumEdges: 10556\n",
      "  NumFeats: 1433\n",
      "  NumClasses: 7\n",
      "  NumTrainingSamples: 140\n",
      "  NumValidationSamples: 500\n",
      "  NumTestSamples: 1000\n",
      "Done loading data from cached files.\n"
     ]
    }
   ],
   "source": [
    "# Load dataset\n",
    "data = CoraGraphDataset()\n",
    "\n",
    "g = data[0]\n",
    "   \n",
    "features = g.ndata['feat']\n",
    "labels = g.ndata['label']\n",
    "train_mask = g.ndata['train_mask'].to(torch.bool)\n",
    "val_mask = g.ndata['val_mask'].to(torch.bool)\n",
    "test_mask = g.ndata['test_mask'].to(torch.bool)\n",
    "in_feats = features.shape[1]\n",
    "n_classes = torch.unique(labels).numel()\n",
    "n_edges = g.number_of_edges()\n",
    "\n",
    "# add self loop\n",
    "g = dgl.remove_self_loop(g)\n",
    "g = dgl.add_self_loop(g)\n"
   ]
  },
  {
   "cell_type": "code",
   "execution_count": 69,
   "metadata": {},
   "outputs": [],
   "source": [
    "# Hyper parameters\n",
    "num_k = 2\n",
    "lr_rate = 0.2\n",
    "weight_decay = 0\n",
    "seed = 10\n",
    "\n",
    "def model_opt(num_k, lr_rate, weight_decay, seed):\n",
    "    # Set seed\n",
    "    torch.manual_seed(seed)\n",
    "    # SGC model\n",
    "    model = SGConv(in_feats,\n",
    "                    n_classes,\n",
    "                    k=num_k,\n",
    "                    cached=True,\n",
    "                    bias=False)\n",
    "\n",
    "    # Optimizer\n",
    "    optimizer = torch.optim.Adam(model.parameters(),\n",
    "                                    lr=lr_rate,\n",
    "                                    weight_decay= weight_decay)\n",
    "    \n",
    "    return model,optimizer"
   ]
  },
  {
   "cell_type": "markdown",
   "metadata": {},
   "source": [
    "## Training the SGC without early stopping"
   ]
  },
  {
   "cell_type": "markdown",
   "metadata": {},
   "source": [
    "First, let see how the model performs without using early stopping to avoid overfitting. For this example, we will set the number of training epochs as 300. As the training proceeds, the model gradually learns the underlying relationship and we observe both the training loss and validation loss decrease rapidly. However, after about 100 iterations, the validation loss starts to increase indicating the occurence of overfitting  "
   ]
  },
  {
   "cell_type": "code",
   "execution_count": 70,
   "metadata": {},
   "outputs": [],
   "source": [
    "# Training parameters\n",
    "num_epochs = 300"
   ]
  },
  {
   "cell_type": "code",
   "execution_count": 71,
   "metadata": {},
   "outputs": [
    {
     "name": "stdout",
     "output_type": "stream",
     "text": [
      "Epoch 00050 | Time(s) 0.2268 | Training Loss 0.0809 | Validation Loss 0.8108 | \n",
      "Epoch 00100 | Time(s) 0.3871 | Training Loss 0.0300 | Validation Loss 0.7929 | \n",
      "Epoch 00150 | Time(s) 0.5630 | Training Loss 0.0174 | Validation Loss 0.7999 | \n",
      "Epoch 00200 | Time(s) 0.7339 | Training Loss 0.0117 | Validation Loss 0.8104 | \n",
      "Epoch 00250 | Time(s) 0.9132 | Training Loss 0.0085 | Validation Loss 0.8214 | \n",
      "Epoch 00300 | Time(s) 1.0879 | Training Loss 0.0065 | Validation Loss 0.8322 | \n",
      "Test Accuracy 0.7610\n"
     ]
    }
   ],
   "source": [
    "model, optimizer = model_opt(num_k, lr_rate, weight_decay,seed)\n",
    "\n",
    "# Create trainer\n",
    "train_model = make_trainer(model, loss_fnc, optimizer)\n",
    "\n",
    "dur = []\n",
    "\n",
    "t0 = time.time()\n",
    "\n",
    "tr_loss_list = []\n",
    "val_loss_list = []\n",
    "val_acc_list = []\n",
    "\n",
    "for epoch in range(num_epochs):\n",
    "    \n",
    "    loss = train_model(features,labels,g,train_mask)\n",
    "\n",
    "    dur.append(time.time() - t0)\n",
    "\n",
    "    val_loss, val_acc = evaluate(model, loss_fnc, g, features, labels, val_mask)\n",
    "    \n",
    "    tr_loss_list.append(loss)\n",
    "    val_loss_list.append(val_loss)\n",
    "    val_acc_list.append(val_acc)\n",
    "\n",
    "    if (epoch + 1) % 50 == 0:\n",
    "        print(\"Epoch {:05d} | Time(s) {:.4f} | Training Loss {:.4f} | Validation Loss {:.4f} | \"\n",
    "            .format(epoch + 1, np.mean(dur), loss, val_loss))\n",
    "    \n",
    "_,acc = evaluate(model, loss_fnc, g, features, labels, test_mask)\n",
    "print(\"Test Accuracy {:.4f}\".format(acc))\n"
   ]
  },
  {
   "cell_type": "code",
   "execution_count": 72,
   "metadata": {},
   "outputs": [
    {
     "data": {
      "image/png": "[encoded data removed]",
      "text/plain": [
       "<Figure size 720x576 with 1 Axes>"
      ]
     },
     "metadata": {
      "needs_background": "light"
     },
     "output_type": "display_data"
    }
   ],
   "source": [
    "# Visualization\n",
    "fig = plt.figure(figsize=(10,8))\n",
    "plt.plot(range(1, num_epochs + 1),tr_loss_list, label='Training Loss')\n",
    "plt.plot(range(1, num_epochs + 1),val_loss_list,label='Validation Loss')\n",
    "\n",
    "plt.xlabel('epochs')\n",
    "plt.ylabel('loss')\n",
    "plt.grid(True)\n",
    "plt.legend()\n",
    "plt.show()"
   ]
  },
  {
   "cell_type": "markdown",
   "metadata": {},
   "source": [
    "## Training the SGC with early stopping"
   ]
  },
  {
   "cell_type": "markdown",
   "metadata": {},
   "source": [
    "Next, we will apply early stopping for training the SGC. First, we will use *validation loss* to monitor the training process. We set the patience as 20 epochs. Now, we see that the best model is obtained at epoch 93. With the use of early stopping, we avoid overfitting and the model achieves better performance on test data"
   ]
  },
  {
   "cell_type": "code",
   "execution_count": 73,
   "metadata": {},
   "outputs": [
    {
     "name": "stdout",
     "output_type": "stream",
     "text": [
      "Selected metric for early stopping: {'loss': 'low'}\n"
     ]
    }
   ],
   "source": [
    "# Import early stopping class\n",
    "from utils import EarlyStopping\n",
    "\n",
    "# Checkpoint path\n",
    "checkpoints_path=f'./cora_sgc+k_{num_k}.pt'\n",
    "\n",
    "# Patience\n",
    "num_patience = 20\n",
    "\n",
    "# Delta \n",
    "delta_pct = 0\n",
    "\n",
    "## Create dict of metric and direction\n",
    "metric_direction = {\n",
    "    'loss':'low'\n",
    "}\n",
    "\n",
    "# Create early stopping object\n",
    "stopper = EarlyStopping(checkpoints_path, patience = num_patience, verbose= False, delta = delta_pct, **metric_direction)"
   ]
  },
  {
   "cell_type": "code",
   "execution_count": 74,
   "metadata": {},
   "outputs": [
    {
     "name": "stdout",
     "output_type": "stream",
     "text": [
      "Epoch 00050 | Time(s) 0.2501 | Training Loss 0.0809 | Validation Loss 0.8108 | \n",
      "Epoch 00100 | Time(s) 0.4470 | Training Loss 0.0300 | Validation Loss 0.7929 | \n",
      "Warning: EarlyStopping soon: 16 out of 20\n",
      "Warning: EarlyStopping soon: 17 out of 20\n",
      "Warning: EarlyStopping soon: 18 out of 20\n",
      "Warning: EarlyStopping soon: 19 out of 20\n",
      "Warning: EarlyStopping soon: 20 out of 20\n",
      "Best model achieved at epoch: 93\n",
      "\n",
      "Loading model before testing.\n",
      "Test Accuracy 0.7700\n"
     ]
    }
   ],
   "source": [
    "# Training with stopper\n",
    "model, optimizer = model_opt(num_k, lr_rate, weight_decay,seed)\n",
    "\n",
    "# Create trainer\n",
    "train_model = make_trainer(model, loss_fnc, optimizer)\n",
    "\n",
    "dur = []\n",
    "\n",
    "t0 = time.time()\n",
    "\n",
    "for epoch in range(num_epochs):\n",
    "    \n",
    "    loss = train_model(features,labels,g,train_mask)\n",
    "\n",
    "    dur.append(time.time() - t0)\n",
    "\n",
    "    val_loss,_ = evaluate(model, loss_fnc, g, features, labels, val_mask)\n",
    "\n",
    "    if (epoch + 1) % 50 == 0:\n",
    "        print(\"Epoch {:05d} | Time(s) {:.4f} | Training Loss {:.4f} | Validation Loss {:.4f} | \"\n",
    "            .format(epoch + 1, np.mean(dur), loss, val_loss))\n",
    "    \n",
    "    # Set dictionary metric_value for stopper \n",
    "    metric_value = {\n",
    "        'loss': val_loss\n",
    "    }\n",
    "    \n",
    "    if stopper(model, epoch, **metric_value):\n",
    "        print(f'Best model achieved at epoch: {stopper.best_epoch + 1}')\n",
    "        break\n",
    "        \n",
    "print()\n",
    "    \n",
    "print('Loading model before testing.')\n",
    "model_checkpoint = torch.load(checkpoints_path,\n",
    "                                map_location=lambda storage, loc: storage)\n",
    "model.load_state_dict(model_checkpoint['state_dict'])\n",
    "\n",
    "_,acc = evaluate(model, loss_fnc, g, features, labels, test_mask)\n",
    "print(\"Test Accuracy {:.4f}\".format(acc))"
   ]
  },
  {
   "cell_type": "code",
   "execution_count": 75,
   "metadata": {},
   "outputs": [
    {
     "data": {
      "image/png": "[encoded data removed]",
      "text/plain": [
       "<Figure size 720x576 with 1 Axes>"
      ]
     },
     "metadata": {
      "needs_background": "light"
     },
     "output_type": "display_data"
    }
   ],
   "source": [
    "# Visualization\n",
    "fig = plt.figure(figsize=(10,8))\n",
    "plt.plot(range(1, num_epochs + 1),tr_loss_list, label='Training Loss')\n",
    "plt.plot(range(1, num_epochs + 1),val_loss_list,label='Validation Loss')\n",
    "\n",
    "# Find position of lowest validation loss\n",
    "min_val_loss_id = val_loss_list.index(min(val_loss_list))+1 \n",
    "plt.axvline(minposs, linestyle='--', color='r',label='Early Stopping at epoch '+str(min_val_loss_id))\n",
    "\n",
    "plt.xlabel('epochs')\n",
    "plt.ylabel('loss')\n",
    "plt.grid(True)\n",
    "plt.legend()\n",
    "plt.show()"
   ]
  },
  {
   "cell_type": "markdown",
   "metadata": {},
   "source": [
    "### Using early stopping with validation accuracy"
   ]
  },
  {
   "cell_type": "markdown",
   "metadata": {},
   "source": [
    "We can also use *validation accuracy* as our metric for stooper object. Now, the best model is obtained at epoch 21 and the performance on test data is further improved"
   ]
  },
  {
   "cell_type": "code",
   "execution_count": 76,
   "metadata": {},
   "outputs": [
    {
     "name": "stdout",
     "output_type": "stream",
     "text": [
      "Selected metric for early stopping: {'acc': 'high'}\n"
     ]
    }
   ],
   "source": [
    "## Create dict of metric and direction\n",
    "metric_direction = {\n",
    "    'acc':'high'\n",
    "}\n",
    "\n",
    "# Create early stopping object\n",
    "stopper = EarlyStopping(checkpoints_path, patience = num_patience, verbose= False, delta = 0, **metric_direction)"
   ]
  },
  {
   "cell_type": "code",
   "execution_count": 77,
   "metadata": {},
   "outputs": [
    {
     "name": "stdout",
     "output_type": "stream",
     "text": [
      "Warning: EarlyStopping soon: 16 out of 20\n",
      "Warning: EarlyStopping soon: 17 out of 20\n",
      "Warning: EarlyStopping soon: 18 out of 20\n",
      "Warning: EarlyStopping soon: 19 out of 20\n",
      "Warning: EarlyStopping soon: 20 out of 20\n",
      "Best model achieved at epoch: 21\n",
      "\n",
      "Loading model before testing.\n",
      "Test Accuracy 0.7900\n"
     ]
    }
   ],
   "source": [
    "# Training with stopper\n",
    "model, optimizer = model_opt(num_k, lr_rate, weight_decay,seed)\n",
    "\n",
    "# Create trainer\n",
    "train_model = make_trainer(model, loss_fnc, optimizer)\n",
    "\n",
    "dur = []\n",
    "\n",
    "t0 = time.time()\n",
    "\n",
    "for epoch in range(num_epochs):\n",
    "    \n",
    "    loss = train_model(features,labels,g,train_mask)\n",
    "\n",
    "    dur.append(time.time() - t0)\n",
    "\n",
    "    val_loss,val_acc = evaluate(model, loss_fnc, g, features, labels, val_mask)\n",
    "\n",
    "    if (epoch + 1) % 50 == 0:\n",
    "        print(\"Epoch {:05d} | Time(s) {:.4f} | Training Loss {:.4f} | Validation Loss {:.4f} | Validation Acc {:.4f} \"\n",
    "            .format(epoch + 1, np.mean(dur), loss, val_loss, val_acc))\n",
    "    \n",
    "    # Set dictionary metric_value for stopper \n",
    "    metric_value = {\n",
    "        'acc': val_acc\n",
    "    }\n",
    "    \n",
    "    if stopper(model, epoch, **metric_value):\n",
    "        print(f'Best model achieved at epoch: {stopper.best_epoch + 1}')\n",
    "        break\n",
    "        \n",
    "print()\n",
    "    \n",
    "print('Loading model before testing.')\n",
    "model_checkpoint = torch.load(checkpoints_path,\n",
    "                                map_location=lambda storage, loc: storage)\n",
    "model.load_state_dict(model_checkpoint['state_dict'])\n",
    "\n",
    "_,acc = evaluate(model, loss_fnc, g, features, labels, test_mask)\n",
    "print(\"Test Accuracy {:.4f}\".format(acc))"
   ]
  },
  {
   "cell_type": "code",
   "execution_count": 82,
   "metadata": {},
   "outputs": [
    {
     "data": {
      "image/png": "[encoded data removed]",
      "text/plain": [
       "<Figure size 720x576 with 1 Axes>"
      ]
     },
     "metadata": {
      "needs_background": "light"
     },
     "output_type": "display_data"
    }
   ],
   "source": [
    "# Visualization\n",
    "fig = plt.figure(figsize=(10,8))\n",
    "plt.plot(range(1, num_epochs + 1),tr_loss_list, label='Training Loss')\n",
    "plt.plot(range(1, num_epochs + 1),val_acc_list,label='Validation Accuracy')\n",
    "\n",
    "# Find position of lowest validation loss\n",
    "max_val_acc_id = val_acc_list.index(max(val_acc_list))+1 \n",
    "plt.axvline(max_val_acc_id, linestyle='--', color='r',label='Early Stopping at epoch '+str(max_val_acc_id))\n",
    "\n",
    "plt.xlabel('epochs')\n",
    "plt.ylabel('loss')\n",
    "plt.ylim(0, 0.8)\n",
    "plt.grid(True)\n",
    "plt.legend()\n",
    "plt.show()"
   ]
  }
 ],
 "metadata": {
  "kernelspec": {
   "display_name": "Python 3.9.5 ('rsgc')",
   "language": "python",
   "name": "python3"
  },
  "language_info": {
   "codemirror_mode": {
    "name": "ipython",
    "version": 3
   },
   "file_extension": ".py",
   "mimetype": "text/x-python",
   "name": "python",
   "nbconvert_exporter": "python",
   "pygments_lexer": "ipython3",
   "version": "3.9.5"
  },
  "orig_nbformat": 4,
  "vscode": {
   "interpreter": {
    "hash": "edd14474d0ebbd8f43913605a28b0c633171cace56dffa2b5d80f55f20cea5db"
   }
  }
 },
 "nbformat": 4,
 "nbformat_minor": 2
}
